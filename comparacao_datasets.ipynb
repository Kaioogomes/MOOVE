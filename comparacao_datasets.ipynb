{
 "cells": [
  {
   "cell_type": "code",
   "execution_count": 5,
   "metadata": {},
   "outputs": [],
   "source": [
    "import numpy as np\n",
    "import pandas as pd\n",
    "import seaborn as sns\n",
    "import matplotlib.pyplot as plt\n",
    "import processing_lib as prcss\n",
    "import model_lib as ml"
   ]
  },
  {
   "cell_type": "code",
   "execution_count": 3,
   "metadata": {},
   "outputs": [],
   "source": [
    "atividades = ['static', 'gait', 'toegait']\n",
    "tam_janelas = 3\n",
    "sensores = ['LSK', 'RUL', 'Trunk']\n",
    "particao = 'all'"
   ]
  },
  {
   "cell_type": "code",
   "execution_count": 6,
   "metadata": {},
   "outputs": [],
   "source": [
    "nome_tabela = f\"moove_table_all_subjects_processed_{tam_janelas}s.csv\"\n",
    "\n",
    "tabela_raw = ml.tratar_tabela_csv(nome_tabela, acc=True, gyro=(particao == 'all'))\n"
   ]
  },
  {
   "cell_type": "code",
   "execution_count": 19,
   "metadata": {},
   "outputs": [],
   "source": [
    "new_data_raw = prcss.read_aquisitions()\n",
    "new_data = {}\n",
    "\n",
    "for sujeito in new_data_raw:\n",
    "    new_data[sujeito] = np.array([])\n",
    "    for raw_signal in new_data_raw[sujeito]:\n",
    "        data_features = prcss.extract_input_matrix(prcss.correct_order(raw_signal), tam_janelas)\n",
    "        np.append(new_data[sujeito], data_features)\n"
   ]
  }
 ],
 "metadata": {
  "kernelspec": {
   "display_name": "Python 3",
   "language": "python",
   "name": "python3"
  },
  "language_info": {
   "codemirror_mode": {
    "name": "ipython",
    "version": 3
   },
   "file_extension": ".py",
   "mimetype": "text/x-python",
   "name": "python",
   "nbconvert_exporter": "python",
   "pygments_lexer": "ipython3",
   "version": "3.10.12"
  }
 },
 "nbformat": 4,
 "nbformat_minor": 2
}
